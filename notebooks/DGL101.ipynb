{
  "nbformat": 4,
  "nbformat_minor": 0,
  "metadata": {
    "colab": {
      "name": "DGL101.ipynb",
      "provenance": [],
      "collapsed_sections": [
        "WBctsiqUdNF5",
        "8jL7wChpdrkt",
        "Hscur1TyIWXL",
        "eCT1WVvNJOiW"
      ],
      "authorship_tag": "ABX9TyMaqyQcgiYzSofDqZ2Mt9e6",
      "include_colab_link": true
    },
    "kernelspec": {
      "name": "python3",
      "display_name": "Python 3"
    },
    "accelerator": "GPU"
  },
  "cells": [
    {
      "cell_type": "markdown",
      "metadata": {
        "id": "view-in-github",
        "colab_type": "text"
      },
      "source": [
        "<a href=\"https://colab.research.google.com/github/rishubhkhurana/GNN/blob/master/notebooks/DGL101.ipynb\" target=\"_parent\"><img src=\"https://colab.research.google.com/assets/colab-badge.svg\" alt=\"Open In Colab\"/></a>"
      ]
    },
    {
      "cell_type": "markdown",
      "metadata": {
        "id": "WBctsiqUdNF5",
        "colab_type": "text"
      },
      "source": [
        "## Downloading Libraries\n"
      ]
    },
    {
      "cell_type": "code",
      "metadata": {
        "id": "TqQJ8sqxdQP-",
        "colab_type": "code",
        "colab": {
          "base_uri": "https://localhost:8080/",
          "height": 530
        },
        "outputId": "b3a16b54-4d65-40f5-cd3d-a7a9a6da6664"
      },
      "source": [
        "!pip install dgl-cu101\n",
        "!pip install ogb"
      ],
      "execution_count": null,
      "outputs": [
        {
          "output_type": "stream",
          "text": [
            "Requirement already satisfied: dgl-cu101 in /usr/local/lib/python3.6/dist-packages (0.4.3.post2)\n",
            "Requirement already satisfied: requests>=2.19.0 in /usr/local/lib/python3.6/dist-packages (from dgl-cu101) (2.23.0)\n",
            "Requirement already satisfied: numpy>=1.14.0 in /usr/local/lib/python3.6/dist-packages (from dgl-cu101) (1.18.5)\n",
            "Requirement already satisfied: scipy>=1.1.0 in /usr/local/lib/python3.6/dist-packages (from dgl-cu101) (1.4.1)\n",
            "Requirement already satisfied: networkx>=2.1 in /usr/local/lib/python3.6/dist-packages (from dgl-cu101) (2.4)\n",
            "Requirement already satisfied: chardet<4,>=3.0.2 in /usr/local/lib/python3.6/dist-packages (from requests>=2.19.0->dgl-cu101) (3.0.4)\n",
            "Requirement already satisfied: idna<3,>=2.5 in /usr/local/lib/python3.6/dist-packages (from requests>=2.19.0->dgl-cu101) (2.10)\n",
            "Requirement already satisfied: urllib3!=1.25.0,!=1.25.1,<1.26,>=1.21.1 in /usr/local/lib/python3.6/dist-packages (from requests>=2.19.0->dgl-cu101) (1.24.3)\n",
            "Requirement already satisfied: certifi>=2017.4.17 in /usr/local/lib/python3.6/dist-packages (from requests>=2.19.0->dgl-cu101) (2020.6.20)\n",
            "Requirement already satisfied: decorator>=4.3.0 in /usr/local/lib/python3.6/dist-packages (from networkx>=2.1->dgl-cu101) (4.4.2)\n",
            "Requirement already satisfied: ogb in /usr/local/lib/python3.6/dist-packages (1.2.2)\n",
            "Requirement already satisfied: tqdm>=4.29.0 in /usr/local/lib/python3.6/dist-packages (from ogb) (4.41.1)\n",
            "Requirement already satisfied: outdated>=0.2.0 in /usr/local/lib/python3.6/dist-packages (from ogb) (0.2.0)\n",
            "Requirement already satisfied: torch>=1.2.0 in /usr/local/lib/python3.6/dist-packages (from ogb) (1.6.0+cu101)\n",
            "Requirement already satisfied: six>=1.12.0 in /usr/local/lib/python3.6/dist-packages (from ogb) (1.15.0)\n",
            "Requirement already satisfied: numpy>=1.16.0 in /usr/local/lib/python3.6/dist-packages (from ogb) (1.18.5)\n",
            "Requirement already satisfied: urllib3>=1.24.0 in /usr/local/lib/python3.6/dist-packages (from ogb) (1.24.3)\n",
            "Requirement already satisfied: scikit-learn>=0.20.0 in /usr/local/lib/python3.6/dist-packages (from ogb) (0.22.2.post1)\n",
            "Requirement already satisfied: pandas>=0.24.0 in /usr/local/lib/python3.6/dist-packages (from ogb) (1.0.5)\n",
            "Requirement already satisfied: requests in /usr/local/lib/python3.6/dist-packages (from outdated>=0.2.0->ogb) (2.23.0)\n",
            "Requirement already satisfied: littleutils in /usr/local/lib/python3.6/dist-packages (from outdated>=0.2.0->ogb) (0.2.2)\n",
            "Requirement already satisfied: future in /usr/local/lib/python3.6/dist-packages (from torch>=1.2.0->ogb) (0.16.0)\n",
            "Requirement already satisfied: joblib>=0.11 in /usr/local/lib/python3.6/dist-packages (from scikit-learn>=0.20.0->ogb) (0.16.0)\n",
            "Requirement already satisfied: scipy>=0.17.0 in /usr/local/lib/python3.6/dist-packages (from scikit-learn>=0.20.0->ogb) (1.4.1)\n",
            "Requirement already satisfied: pytz>=2017.2 in /usr/local/lib/python3.6/dist-packages (from pandas>=0.24.0->ogb) (2018.9)\n",
            "Requirement already satisfied: python-dateutil>=2.6.1 in /usr/local/lib/python3.6/dist-packages (from pandas>=0.24.0->ogb) (2.8.1)\n",
            "Requirement already satisfied: idna<3,>=2.5 in /usr/local/lib/python3.6/dist-packages (from requests->outdated>=0.2.0->ogb) (2.10)\n",
            "Requirement already satisfied: certifi>=2017.4.17 in /usr/local/lib/python3.6/dist-packages (from requests->outdated>=0.2.0->ogb) (2020.6.20)\n",
            "Requirement already satisfied: chardet<4,>=3.0.2 in /usr/local/lib/python3.6/dist-packages (from requests->outdated>=0.2.0->ogb) (3.0.4)\n"
          ],
          "name": "stdout"
        }
      ]
    },
    {
      "cell_type": "markdown",
      "metadata": {
        "id": "utdq3mamdVWA",
        "colab_type": "text"
      },
      "source": [
        "## Importing Libs"
      ]
    },
    {
      "cell_type": "code",
      "metadata": {
        "id": "tJKBF2s9Kpgj",
        "colab_type": "code",
        "colab": {}
      },
      "source": [
        "%load_ext autoreload\n",
        "%autoreload 2"
      ],
      "execution_count": null,
      "outputs": []
    },
    {
      "cell_type": "code",
      "metadata": {
        "id": "g42yfUtGdSf6",
        "colab_type": "code",
        "colab": {
          "base_uri": "https://localhost:8080/",
          "height": 51
        },
        "outputId": "ccbc40b7-731d-484e-adca-cd7c12ed7f76"
      },
      "source": [
        "import dgl\n",
        "import dgl.nn as gnn\n",
        "import torch\n",
        "import torch.nn as nn\n",
        "import torch.nn.functional as F\n",
        "import numpy as np\n",
        "import pandas as pd\n",
        "from sklearn.preprocessing import LabelEncoder\n",
        "dgl.load_backend('pytorch')\n",
        "from torch.utils.data import DataLoader\n",
        "import attr"
      ],
      "execution_count": null,
      "outputs": [
        {
          "output_type": "stream",
          "text": [
            "Using backend: pytorch\n",
            "Using backend: pytorch\n"
          ],
          "name": "stderr"
        }
      ]
    },
    {
      "cell_type": "markdown",
      "metadata": {
        "id": "8jL7wChpdrkt",
        "colab_type": "text"
      },
      "source": [
        "## Practice DGL"
      ]
    },
    {
      "cell_type": "code",
      "metadata": {
        "id": "nsEeiJvGDweA",
        "colab_type": "code",
        "colab": {}
      },
      "source": [
        "_activations = {'elu':nn.ELU(),'relu':nn.ReLU(),'leaky':nn.LeakyReLU()}\n",
        "class SAGEConvModel(nn.Module):\n",
        "    def __init__(self,in_channels,gnn_filters, out_channels,aggregator_type='gcn',drop_p=0,activation='relu'):\n",
        "        super().__init__()\n",
        "        self.activation = _activations[activation]\n",
        "        self.gnn_lyrs = nn.ModuleList()\n",
        "        for i,filters in enumerate(gnn_filters):\n",
        "            if i==0:\n",
        "                self.gnn_lyrs.append(gnn.SAGEConv(in_channels,filters,aggregator_type=aggregator_type,feat_drop=drop_p,activation=self.activation))\n",
        "            else:\n",
        "                self.gnn_lyrs.append(gnn.SAGEConv(gnn_filters[i-1],filters,aggregator_type=aggregator_type,feat_drop=drop_p,activation=self.activation))\n",
        "        self.gnn_lyrs.append(gnn.SAGEConv(gnn_filters[-1],out_channels,aggregator_type=aggregator_type,feat_drop=drop_p,activation=None))\n",
        "    def forward(self,G,features):\n",
        "        h = features\n",
        "        for l in self.gnn_lyrs:\n",
        "            h = l(G,h)\n",
        "        return h"
      ],
      "execution_count": null,
      "outputs": []
    },
    {
      "cell_type": "code",
      "metadata": {
        "id": "1DGE8lLdc5zm",
        "colab_type": "code",
        "colab": {}
      },
      "source": [
        "_activations = {'elu':nn.ELU(),'relu':nn.ReLU(),'leaky':nn.LeakyReLU()}\n",
        "class GCNModel(nn.Module):\n",
        "    def __init__(self,in_channels,gnn_filters, out_channels,aggregator_type='gcn',drop_p=0,activation='relu'):\n",
        "        super().__init__()\n",
        "        self.activation = _activations[activation]\n",
        "        self.gnn_lyrs = nn.ModuleList()\n",
        "        for i,filters in enumerate(gnn_filters):\n",
        "            if i==0:\n",
        "                self.gnn_lyrs.append(gnn.GraphConv(in_channels,filters,activation=self.activation))\n",
        "            else:\n",
        "                self.gnn_lyrs.append(gnn.GraphConv(gnn_filters[i-1],filters,activation=self.activation))\n",
        "        self.gnn_lyrs.append(gnn.GraphConv(gnn_filters[-1],out_channels,activation=None))\n",
        "    def forward(self,G,features):\n",
        "        h = features\n",
        "        for l in self.gnn_lyrs:\n",
        "            h = l(G,h)\n",
        "        return h"
      ],
      "execution_count": null,
      "outputs": []
    },
    {
      "cell_type": "code",
      "metadata": {
        "id": "JHKqXb56d0Gc",
        "colab_type": "code",
        "colab": {}
      },
      "source": [
        "model = SAGEConvModel(10,[16,16],4)"
      ],
      "execution_count": null,
      "outputs": []
    },
    {
      "cell_type": "code",
      "metadata": {
        "id": "-G7eRv7Ngflu",
        "colab_type": "code",
        "colab": {
          "base_uri": "https://localhost:8080/",
          "height": 340
        },
        "outputId": "f661f0f0-999e-4500-e1bb-cc49efb321db"
      },
      "source": [
        "model"
      ],
      "execution_count": null,
      "outputs": [
        {
          "output_type": "execute_result",
          "data": {
            "text/plain": [
              "SAGEConvModel(\n",
              "  (activation): ReLU()\n",
              "  (gnn_lyrs): ModuleList(\n",
              "    (0): SAGEConv(\n",
              "      (feat_drop): Dropout(p=0, inplace=False)\n",
              "      (activation): ReLU()\n",
              "      (fc_neigh): Linear(in_features=10, out_features=16, bias=True)\n",
              "    )\n",
              "    (1): SAGEConv(\n",
              "      (feat_drop): Dropout(p=0, inplace=False)\n",
              "      (activation): ReLU()\n",
              "      (fc_neigh): Linear(in_features=16, out_features=16, bias=True)\n",
              "    )\n",
              "    (2): SAGEConv(\n",
              "      (feat_drop): Dropout(p=0, inplace=False)\n",
              "      (fc_neigh): Linear(in_features=16, out_features=4, bias=True)\n",
              "    )\n",
              "  )\n",
              ")"
            ]
          },
          "metadata": {
            "tags": []
          },
          "execution_count": 7
        }
      ]
    },
    {
      "cell_type": "markdown",
      "metadata": {
        "id": "Hscur1TyIWXL",
        "colab_type": "text"
      },
      "source": [
        "## Reading Data"
      ]
    },
    {
      "cell_type": "code",
      "metadata": {
        "id": "3xfRRnIHg63v",
        "colab_type": "code",
        "colab": {}
      },
      "source": [
        "## reading data\n",
        "from dgl.data import citegrh"
      ],
      "execution_count": null,
      "outputs": []
    },
    {
      "cell_type": "code",
      "metadata": {
        "id": "VFKsz45-hILS",
        "colab_type": "code",
        "colab": {
          "base_uri": "https://localhost:8080/",
          "height": 153
        },
        "outputId": "21a18be5-e2aa-41c9-ca50-62d6a7ed6e7f"
      },
      "source": [
        "data = citegrh.load_pubmed()"
      ],
      "execution_count": null,
      "outputs": [
        {
          "output_type": "stream",
          "text": [
            "Finished data loading and preprocessing.\n",
            "  NumNodes: 19717\n",
            "  NumEdges: 88651\n",
            "  NumFeats: 500\n",
            "  NumClasses: 3\n",
            "  NumTrainingSamples: 60\n",
            "  NumValidationSamples: 500\n",
            "  NumTestSamples: 1000\n"
          ],
          "name": "stdout"
        }
      ]
    },
    {
      "cell_type": "code",
      "metadata": {
        "id": "IxwtHYzLhMmP",
        "colab_type": "code",
        "colab": {
          "base_uri": "https://localhost:8080/",
          "height": 34
        },
        "outputId": "c4345e78-e351-479d-8f69-cd4b5ec2d175"
      },
      "source": [
        "len(data)"
      ],
      "execution_count": null,
      "outputs": [
        {
          "output_type": "execute_result",
          "data": {
            "text/plain": [
              "1"
            ]
          },
          "metadata": {
            "tags": []
          },
          "execution_count": 9
        }
      ]
    },
    {
      "cell_type": "code",
      "metadata": {
        "id": "yIagwnRZhO21",
        "colab_type": "code",
        "colab": {}
      },
      "source": [
        "graph=data[0]"
      ],
      "execution_count": null,
      "outputs": []
    },
    {
      "cell_type": "code",
      "metadata": {
        "id": "7zpAXsWGhbek",
        "colab_type": "code",
        "colab": {}
      },
      "source": [
        "features = torch.tensor(data.features)\n",
        "labels = torch.tensor(data.labels)\n",
        "num_classes = data.num_labels\n",
        "in_channels = features.shape[1]"
      ],
      "execution_count": null,
      "outputs": []
    },
    {
      "cell_type": "code",
      "metadata": {
        "id": "2Qv5UlWOh2AI",
        "colab_type": "code",
        "colab": {
          "base_uri": "https://localhost:8080/",
          "height": 51
        },
        "outputId": "3d70a201-4742-434c-f25f-cd420b3de499"
      },
      "source": [
        "print(f\"Number of nodes --> {data[0].number_of_nodes()}\")\n",
        "print(f\"Number of edges --> {data[0].number_of_edges()}\")"
      ],
      "execution_count": null,
      "outputs": [
        {
          "output_type": "stream",
          "text": [
            "Number of nodes --> 19717\n",
            "Number of edges --> 88651\n"
          ],
          "name": "stdout"
        }
      ]
    },
    {
      "cell_type": "code",
      "metadata": {
        "id": "2g7CrWOMJLeF",
        "colab_type": "code",
        "colab": {}
      },
      "source": [
        "g = data[0]\n",
        "g.ndata['feat'] = features.to('cuda')\n",
        "g.ndata['labels'] = labels.to('cuda')"
      ],
      "execution_count": null,
      "outputs": []
    },
    {
      "cell_type": "markdown",
      "metadata": {
        "id": "eCT1WVvNJOiW",
        "colab_type": "text"
      },
      "source": [
        "## Defining Model"
      ]
    },
    {
      "cell_type": "code",
      "metadata": {
        "id": "Tc6HscwJiZmK",
        "colab_type": "code",
        "colab": {}
      },
      "source": [
        "## model parameters\n",
        "model_params = {}\n",
        "model_params['in_channels'] = in_channels\n",
        "model_params['gnn_filters'] = [32,32,32]\n",
        "model_params['out_channels'] = num_classes\n",
        "model_params['drop_p'] = 0.5"
      ],
      "execution_count": null,
      "outputs": []
    },
    {
      "cell_type": "markdown",
      "metadata": {
        "id": "BPXpy4fG0t3l",
        "colab_type": "text"
      },
      "source": [
        "## Trainer"
      ]
    },
    {
      "cell_type": "code",
      "metadata": {
        "id": "YuooiMiFTv59",
        "colab_type": "code",
        "colab": {}
      },
      "source": [
        "!rm -rf GNN"
      ],
      "execution_count": null,
      "outputs": []
    },
    {
      "cell_type": "code",
      "metadata": {
        "id": "yF2nnOrN0vCu",
        "colab_type": "code",
        "colab": {
          "base_uri": "https://localhost:8080/",
          "height": 119
        },
        "outputId": "2723b677-f0b2-4443-9a3c-4ecbf62ddeea"
      },
      "source": [
        "!git clone https://github.com/rishubhkhurana/GNN.git"
      ],
      "execution_count": null,
      "outputs": [
        {
          "output_type": "stream",
          "text": [
            "Cloning into 'GNN'...\n",
            "remote: Enumerating objects: 59, done.\u001b[K\n",
            "remote: Counting objects:   1% (1/59)\u001b[K\rremote: Counting objects:   3% (2/59)\u001b[K\rremote: Counting objects:   5% (3/59)\u001b[K\rremote: Counting objects:   6% (4/59)\u001b[K\rremote: Counting objects:   8% (5/59)\u001b[K\rremote: Counting objects:  10% (6/59)\u001b[K\rremote: Counting objects:  11% (7/59)\u001b[K\rremote: Counting objects:  13% (8/59)\u001b[K\rremote: Counting objects:  15% (9/59)\u001b[K\rremote: Counting objects:  16% (10/59)\u001b[K\rremote: Counting objects:  18% (11/59)\u001b[K\rremote: Counting objects:  20% (12/59)\u001b[K\rremote: Counting objects:  22% (13/59)\u001b[K\rremote: Counting objects:  23% (14/59)\u001b[K\rremote: Counting objects:  25% (15/59)\u001b[K\rremote: Counting objects:  27% (16/59)\u001b[K\rremote: Counting objects:  28% (17/59)\u001b[K\rremote: Counting objects:  30% (18/59)\u001b[K\rremote: Counting objects:  32% (19/59)\u001b[K\rremote: Counting objects:  33% (20/59)\u001b[K\rremote: Counting objects:  35% (21/59)\u001b[K\rremote: Counting objects:  37% (22/59)\u001b[K\rremote: Counting objects:  38% (23/59)\u001b[K\rremote: Counting objects:  40% (24/59)\u001b[K\rremote: Counting objects:  42% (25/59)\u001b[K\rremote: Counting objects:  44% (26/59)\u001b[K\rremote: Counting objects:  45% (27/59)\u001b[K\rremote: Counting objects:  47% (28/59)\u001b[K\rremote: Counting objects:  49% (29/59)\u001b[K\rremote: Counting objects:  50% (30/59)\u001b[K\rremote: Counting objects:  52% (31/59)\u001b[K\rremote: Counting objects:  54% (32/59)\u001b[K\rremote: Counting objects:  55% (33/59)\u001b[K\rremote: Counting objects:  57% (34/59)\u001b[K\rremote: Counting objects:  59% (35/59)\u001b[K\rremote: Counting objects:  61% (36/59)\u001b[K\rremote: Counting objects:  62% (37/59)\u001b[K\rremote: Counting objects:  64% (38/59)\u001b[K\rremote: Counting objects:  66% (39/59)\u001b[K\rremote: Counting objects:  67% (40/59)\u001b[K\rremote: Counting objects:  69% (41/59)\u001b[K\rremote: Counting objects:  71% (42/59)\u001b[K\rremote: Counting objects:  72% (43/59)\u001b[K\rremote: Counting objects:  74% (44/59)\u001b[K\rremote: Counting objects:  76% (45/59)\u001b[K\rremote: Counting objects:  77% (46/59)\u001b[K\rremote: Counting objects:  79% (47/59)\u001b[K\rremote: Counting objects:  81% (48/59)\u001b[K\rremote: Counting objects:  83% (49/59)\u001b[K\rremote: Counting objects:  84% (50/59)\u001b[K\rremote: Counting objects:  86% (51/59)\u001b[K\rremote: Counting objects:  88% (52/59)\u001b[K\rremote: Counting objects:  89% (53/59)\u001b[K\rremote: Counting objects:  91% (54/59)\u001b[K\rremote: Counting objects:  93% (55/59)\u001b[K\rremote: Counting objects:  94% (56/59)\u001b[K\rremote: Counting objects:  96% (57/59)\u001b[K\rremote: Counting objects:  98% (58/59)\u001b[K\rremote: Counting objects: 100% (59/59)\u001b[K\rremote: Counting objects: 100% (59/59), done.\u001b[K\n",
            "remote: Compressing objects:   2% (1/39)\u001b[K\rremote: Compressing objects:   5% (2/39)\u001b[K\rremote: Compressing objects:   7% (3/39)\u001b[K\rremote: Compressing objects:  10% (4/39)\u001b[K\rremote: Compressing objects:  12% (5/39)\u001b[K\rremote: Compressing objects:  15% (6/39)\u001b[K\rremote: Compressing objects:  17% (7/39)\u001b[K\rremote: Compressing objects:  20% (8/39)\u001b[K\rremote: Compressing objects:  23% (9/39)\u001b[K\rremote: Compressing objects:  25% (10/39)\u001b[K\rremote: Compressing objects:  28% (11/39)\u001b[K\rremote: Compressing objects:  30% (12/39)\u001b[K\rremote: Compressing objects:  33% (13/39)\u001b[K\rremote: Compressing objects:  35% (14/39)\u001b[K\rremote: Compressing objects:  38% (15/39)\u001b[K\rremote: Compressing objects:  41% (16/39)\u001b[K\rremote: Compressing objects:  43% (17/39)\u001b[K\rremote: Compressing objects:  46% (18/39)\u001b[K\rremote: Compressing objects:  48% (19/39)\u001b[K\rremote: Compressing objects:  51% (20/39)\u001b[K\rremote: Compressing objects:  53% (21/39)\u001b[K\rremote: Compressing objects:  56% (22/39)\u001b[K\rremote: Compressing objects:  58% (23/39)\u001b[K\rremote: Compressing objects:  61% (24/39)\u001b[K\rremote: Compressing objects:  64% (25/39)\u001b[K\rremote: Compressing objects:  66% (26/39)\u001b[K\rremote: Compressing objects:  69% (27/39)\u001b[K\rremote: Compressing objects:  71% (28/39)\u001b[K\rremote: Compressing objects:  74% (29/39)\u001b[K\rremote: Compressing objects:  76% (30/39)\u001b[K\rremote: Compressing objects:  79% (31/39)\u001b[K\rremote: Compressing objects:  82% (32/39)\u001b[K\rremote: Compressing objects:  84% (33/39)\u001b[K\rremote: Compressing objects:  87% (34/39)\u001b[K\rremote: Compressing objects:  89% (35/39)\u001b[K\rremote: Compressing objects:  92% (36/39)\u001b[K\rremote: Compressing objects:  94% (37/39)\u001b[K\rremote: Compressing objects:  97% (38/39)\u001b[K\rremote: Compressing objects: 100% (39/39)\u001b[K\rremote: Compressing objects: 100% (39/39), done.\u001b[K\n",
            "remote: Total 59 (delta 20), reused 57 (delta 18), pack-reused 0\u001b[K\n",
            "Unpacking objects:   1% (1/59)   \rUnpacking objects:   3% (2/59)   \rUnpacking objects:   5% (3/59)   \rUnpacking objects:   6% (4/59)   \rUnpacking objects:   8% (5/59)   \rUnpacking objects:  10% (6/59)   \rUnpacking objects:  11% (7/59)   \rUnpacking objects:  13% (8/59)   \rUnpacking objects:  15% (9/59)   \rUnpacking objects:  16% (10/59)   \rUnpacking objects:  18% (11/59)   \rUnpacking objects:  20% (12/59)   \rUnpacking objects:  22% (13/59)   \rUnpacking objects:  23% (14/59)   \rUnpacking objects:  25% (15/59)   \rUnpacking objects:  27% (16/59)   \rUnpacking objects:  28% (17/59)   \rUnpacking objects:  30% (18/59)   \rUnpacking objects:  32% (19/59)   \rUnpacking objects:  33% (20/59)   \rUnpacking objects:  35% (21/59)   \rUnpacking objects:  37% (22/59)   \rUnpacking objects:  38% (23/59)   \rUnpacking objects:  40% (24/59)   \rUnpacking objects:  42% (25/59)   \rUnpacking objects:  44% (26/59)   \rUnpacking objects:  45% (27/59)   \rUnpacking objects:  47% (28/59)   \rUnpacking objects:  49% (29/59)   \rUnpacking objects:  50% (30/59)   \rUnpacking objects:  52% (31/59)   \rUnpacking objects:  54% (32/59)   \rUnpacking objects:  55% (33/59)   \rUnpacking objects:  57% (34/59)   \rUnpacking objects:  59% (35/59)   \rUnpacking objects:  61% (36/59)   \rUnpacking objects:  62% (37/59)   \rUnpacking objects:  64% (38/59)   \rUnpacking objects:  66% (39/59)   \rUnpacking objects:  67% (40/59)   \rUnpacking objects:  69% (41/59)   \rUnpacking objects:  71% (42/59)   \rUnpacking objects:  72% (43/59)   \rUnpacking objects:  74% (44/59)   \rUnpacking objects:  76% (45/59)   \rUnpacking objects:  77% (46/59)   \rUnpacking objects:  79% (47/59)   \rUnpacking objects:  81% (48/59)   \rUnpacking objects:  83% (49/59)   \rUnpacking objects:  84% (50/59)   \rUnpacking objects:  86% (51/59)   \rUnpacking objects:  88% (52/59)   \rUnpacking objects:  89% (53/59)   \rUnpacking objects:  91% (54/59)   \rUnpacking objects:  93% (55/59)   \rUnpacking objects:  94% (56/59)   \rUnpacking objects:  96% (57/59)   \rUnpacking objects:  98% (58/59)   \rUnpacking objects: 100% (59/59)   \rUnpacking objects: 100% (59/59), done.\n"
          ],
          "name": "stdout"
        }
      ]
    },
    {
      "cell_type": "code",
      "metadata": {
        "id": "pOFK9EYM02O5",
        "colab_type": "code",
        "colab": {}
      },
      "source": [
        "from GNN.training_loops import *"
      ],
      "execution_count": null,
      "outputs": []
    },
    {
      "cell_type": "code",
      "metadata": {
        "id": "wlcCI7JY09I5",
        "colab_type": "code",
        "colab": {}
      },
      "source": [
        "node_idxs = g.nodes()\n",
        "train_idxs = node_idxs[data.train_mask==1.]\n",
        "valid_idxs = node_idxs[data.val_mask==1.]\n",
        "test_idxs = node_idxs[data.test_mask==1.]"
      ],
      "execution_count": null,
      "outputs": []
    },
    {
      "cell_type": "code",
      "metadata": {
        "id": "TZVvNDr8-zlK",
        "colab_type": "code",
        "colab": {}
      },
      "source": [
        "dls = dict()\n",
        "dls['train'] = dataloader.DGLNodeLoader(graph=g,shuffle=True,node_idxs=train_idxs)\n",
        "dls['test'] = dataloader.DGLNodeLoader(graph=g,shuffle=False,node_idxs=test_idxs)\n",
        "dls['valid'] = dataloader.DGLNodeLoader(graph=g,shuffle=False,node_idxs=valid_idxs)"
      ],
      "execution_count": null,
      "outputs": []
    },
    {
      "cell_type": "code",
      "metadata": {
        "id": "_r2Uuc84E32E",
        "colab_type": "code",
        "colab": {
          "base_uri": "https://localhost:8080/",
          "height": 198
        },
        "outputId": "4f3349b5-1b01-4644-94fb-5f43c451f3f4"
      },
      "source": [
        "model = SAGEConvModel(**model_params).to('cuda')\n",
        "opt = torch.optim.Adam(model.parameters(),lr=1e-3)\n",
        "loss_func = nn.CrossEntropyLoss()"
      ],
      "execution_count": null,
      "outputs": [
        {
          "output_type": "error",
          "ename": "NameError",
          "evalue": "ignored",
          "traceback": [
            "\u001b[0;31m---------------------------------------------------------------------------\u001b[0m",
            "\u001b[0;31mNameError\u001b[0m                                 Traceback (most recent call last)",
            "\u001b[0;32m<ipython-input-19-877c9edfb1a1>\u001b[0m in \u001b[0;36m<module>\u001b[0;34m()\u001b[0m\n\u001b[0;32m----> 1\u001b[0;31m \u001b[0mmodel\u001b[0m \u001b[0;34m=\u001b[0m \u001b[0mSAGEConvModel\u001b[0m\u001b[0;34m(\u001b[0m\u001b[0;34m**\u001b[0m\u001b[0mmodel_params\u001b[0m\u001b[0;34m)\u001b[0m\u001b[0;34m.\u001b[0m\u001b[0mto\u001b[0m\u001b[0;34m(\u001b[0m\u001b[0;34m'cuda'\u001b[0m\u001b[0;34m)\u001b[0m\u001b[0;34m\u001b[0m\u001b[0;34m\u001b[0m\u001b[0m\n\u001b[0m\u001b[1;32m      2\u001b[0m \u001b[0mopt\u001b[0m \u001b[0;34m=\u001b[0m \u001b[0mtorch\u001b[0m\u001b[0;34m.\u001b[0m\u001b[0moptim\u001b[0m\u001b[0;34m.\u001b[0m\u001b[0mAdam\u001b[0m\u001b[0;34m(\u001b[0m\u001b[0mmodel\u001b[0m\u001b[0;34m.\u001b[0m\u001b[0mparameters\u001b[0m\u001b[0;34m(\u001b[0m\u001b[0;34m)\u001b[0m\u001b[0;34m,\u001b[0m\u001b[0mlr\u001b[0m\u001b[0;34m=\u001b[0m\u001b[0;36m1e-3\u001b[0m\u001b[0;34m)\u001b[0m\u001b[0;34m\u001b[0m\u001b[0;34m\u001b[0m\u001b[0m\n\u001b[1;32m      3\u001b[0m \u001b[0mloss_func\u001b[0m \u001b[0;34m=\u001b[0m \u001b[0mnn\u001b[0m\u001b[0;34m.\u001b[0m\u001b[0mCrossEntropyLoss\u001b[0m\u001b[0;34m(\u001b[0m\u001b[0;34m)\u001b[0m\u001b[0;34m\u001b[0m\u001b[0;34m\u001b[0m\u001b[0m\n",
            "\u001b[0;31mNameError\u001b[0m: name 'model_params' is not defined"
          ]
        }
      ]
    },
    {
      "cell_type": "code",
      "metadata": {
        "id": "HKu7E73dANJL",
        "colab_type": "code",
        "colab": {}
      },
      "source": [
        "packet = training.TrainPacket(model=model,opt=opt,dls=dls,loss_func=loss_func)"
      ],
      "execution_count": null,
      "outputs": []
    },
    {
      "cell_type": "code",
      "metadata": {
        "id": "rCtX1dyvEiU2",
        "colab_type": "code",
        "colab": {}
      },
      "source": [
        "cbs = [training.PreProcessingCallBack(xnames=['graph','features'],mask_name='node_idxs',ynames=['yb'])]\n",
        "cbs+=[training.TrainRecorderCallBack(metric_funcs=[(metrics.accuracy(),'summable')]),training.PrintStatsCallBack(freq=50)]"
      ],
      "execution_count": null,
      "outputs": []
    },
    {
      "cell_type": "code",
      "metadata": {
        "id": "gwZ5ShrJINOP",
        "colab_type": "code",
        "colab": {}
      },
      "source": [
        "cbh = training.CallBackHandler(cbs=cbs)"
      ],
      "execution_count": null,
      "outputs": []
    },
    {
      "cell_type": "code",
      "metadata": {
        "id": "qZEavZSDIRye",
        "colab_type": "code",
        "colab": {}
      },
      "source": [
        "runner = training.Runner(cbh=cbh,trainpacket=packet)"
      ],
      "execution_count": null,
      "outputs": []
    },
    {
      "cell_type": "code",
      "metadata": {
        "id": "BfYDqqSwd7yq",
        "colab_type": "code",
        "colab": {}
      },
      "source": [
        ""
      ],
      "execution_count": null,
      "outputs": []
    },
    {
      "cell_type": "code",
      "metadata": {
        "id": "yo_jaccMIZ5p",
        "colab_type": "code",
        "colab": {
          "base_uri": "https://localhost:8080/",
          "height": 247
        },
        "outputId": "07d028ae-2984-47c2-cddf-92229ece00ea"
      },
      "source": [
        "runner.fit(epochs=500)"
      ],
      "execution_count": null,
      "outputs": [
        {
          "output_type": "display_data",
          "data": {
            "text/html": [
              "Epoch[0]: Training Stats--> Loss:1.1155 Loss:1.1155 accuracy: 0.2500Validation Stats--> Loss:1.1019 Loss:1.1019 accuracy: 0.3160<p>Epoch[50]: Training Stats--> Loss:0.9715 Loss:0.9715 accuracy: 0.6333Validation Stats--> Loss:0.9982 Loss:0.9982 accuracy: 0.7140<p>Epoch[100]: Training Stats--> Loss:0.6183 Loss:0.6183 accuracy: 0.8167Validation Stats--> Loss:0.6872 Loss:0.6872 accuracy: 0.7400<p>Epoch[150]: Training Stats--> Loss:0.2517 Loss:0.2517 accuracy: 0.9333Validation Stats--> Loss:0.5671 Loss:0.5671 accuracy: 0.7860<p>Epoch[200]: Training Stats--> Loss:0.0876 Loss:0.0876 accuracy: 0.9833Validation Stats--> Loss:0.6367 Loss:0.6367 accuracy: 0.7840<p>Epoch[250]: Training Stats--> Loss:0.0469 Loss:0.0469 accuracy: 1.0000Validation Stats--> Loss:0.7154 Loss:0.7154 accuracy: 0.7840<p>Epoch[300]: Training Stats--> Loss:0.0259 Loss:0.0259 accuracy: 1.0000Validation Stats--> Loss:0.7710 Loss:0.7710 accuracy: 0.7780<p>Epoch[350]: Training Stats--> Loss:0.0144 Loss:0.0144 accuracy: 1.0000Validation Stats--> Loss:0.8879 Loss:0.8879 accuracy: 0.7760<p>Epoch[400]: Training Stats--> Loss:0.0412 Loss:0.0412 accuracy: 1.0000Validation Stats--> Loss:0.9416 Loss:0.9416 accuracy: 0.7620<p>Epoch[450]: Training Stats--> Loss:0.0078 Loss:0.0078 accuracy: 1.0000Validation Stats--> Loss:0.9620 Loss:0.9620 accuracy: 0.7720"
            ],
            "text/plain": [
              "<IPython.core.display.HTML object>"
            ]
          },
          "metadata": {
            "tags": []
          }
        }
      ]
    },
    {
      "cell_type": "code",
      "metadata": {
        "id": "K9M6PLrvWvk2",
        "colab_type": "code",
        "colab": {}
      },
      "source": [
        "## GCN Model"
      ],
      "execution_count": null,
      "outputs": []
    },
    {
      "cell_type": "code",
      "metadata": {
        "id": "eL8esyXZdWEo",
        "colab_type": "code",
        "colab": {}
      },
      "source": [
        "model = GCNModel(**model_params).cuda()\n",
        "opt = torch.optim.Adam(model.parameters(),lr=1e-3)\n",
        "loss_func = nn.CrossEntropyLoss()"
      ],
      "execution_count": null,
      "outputs": []
    },
    {
      "cell_type": "code",
      "metadata": {
        "id": "uwGZ7XU9dqQw",
        "colab_type": "code",
        "colab": {}
      },
      "source": [
        "packet = training.TrainPacket(model=model,opt=opt,dls=dls,loss_func=loss_func)"
      ],
      "execution_count": null,
      "outputs": []
    },
    {
      "cell_type": "code",
      "metadata": {
        "id": "ZfldWyjDd400",
        "colab_type": "code",
        "colab": {}
      },
      "source": [
        "cbs = [training.PreProcessingCallBack(xnames=['graph','features'],mask_name='node_idxs',ynames=['yb'])]\n",
        "cbs+=[training.TrainRecorderCallBack(metric_funcs=[(metrics.accuracy(),'summable')]),training.PrintStatsCallBack(freq=50)]"
      ],
      "execution_count": null,
      "outputs": []
    },
    {
      "cell_type": "code",
      "metadata": {
        "id": "s15wdk5rd6YN",
        "colab_type": "code",
        "colab": {}
      },
      "source": [
        "cbh = training.CallBackHandler(cbs=cbs)"
      ],
      "execution_count": null,
      "outputs": []
    },
    {
      "cell_type": "code",
      "metadata": {
        "id": "-9vJy0YCd8sv",
        "colab_type": "code",
        "colab": {}
      },
      "source": [
        "runner = training.Runner(cbh=cbh,trainpacket=packet)"
      ],
      "execution_count": null,
      "outputs": []
    },
    {
      "cell_type": "code",
      "metadata": {
        "id": "9vZalGQOd9SE",
        "colab_type": "code",
        "colab": {
          "base_uri": "https://localhost:8080/",
          "height": 247
        },
        "outputId": "97413afd-49ba-4538-cd74-acc1edbeb3bd"
      },
      "source": [
        "runner.fit(epochs=500)"
      ],
      "execution_count": null,
      "outputs": [
        {
          "output_type": "display_data",
          "data": {
            "text/html": [
              "Epoch[0]: Training Stats--> Loss:1.0985 Loss:1.0985 accuracy: 0.3333Validation Stats--> Loss:1.0985 Loss:1.0985 accuracy: 0.3440<p>Epoch[50]: Training Stats--> Loss:0.9029 Loss:0.9029 accuracy: 0.8333Validation Stats--> Loss:1.0032 Loss:1.0032 accuracy: 0.6840<p>Epoch[100]: Training Stats--> Loss:0.3669 Loss:0.3669 accuracy: 0.9333Validation Stats--> Loss:0.6862 Loss:0.6862 accuracy: 0.7840<p>Epoch[150]: Training Stats--> Loss:0.0950 Loss:0.0950 accuracy: 0.9833Validation Stats--> Loss:0.6308 Loss:0.6308 accuracy: 0.7900<p>Epoch[200]: Training Stats--> Loss:0.0277 Loss:0.0277 accuracy: 1.0000Validation Stats--> Loss:0.7169 Loss:0.7169 accuracy: 0.7800<p>Epoch[250]: Training Stats--> Loss:0.0118 Loss:0.0118 accuracy: 1.0000Validation Stats--> Loss:0.8001 Loss:0.8001 accuracy: 0.7740<p>Epoch[300]: Training Stats--> Loss:0.0061 Loss:0.0061 accuracy: 1.0000Validation Stats--> Loss:0.8709 Loss:0.8709 accuracy: 0.7740<p>Epoch[350]: Training Stats--> Loss:0.0036 Loss:0.0036 accuracy: 1.0000Validation Stats--> Loss:0.9316 Loss:0.9316 accuracy: 0.7720<p>Epoch[400]: Training Stats--> Loss:0.0023 Loss:0.0023 accuracy: 1.0000Validation Stats--> Loss:0.9825 Loss:0.9825 accuracy: 0.7700<p>Epoch[450]: Training Stats--> Loss:0.0017 Loss:0.0017 accuracy: 1.0000Validation Stats--> Loss:1.0265 Loss:1.0265 accuracy: 0.7700"
            ],
            "text/plain": [
              "<IPython.core.display.HTML object>"
            ]
          },
          "metadata": {
            "tags": []
          }
        }
      ]
    },
    {
      "cell_type": "code",
      "metadata": {
        "id": "PTABqsAueC2m",
        "colab_type": "code",
        "colab": {}
      },
      "source": [
        ""
      ],
      "execution_count": null,
      "outputs": []
    },
    {
      "cell_type": "markdown",
      "metadata": {
        "id": "UIqyDofUhtdi",
        "colab_type": "text"
      },
      "source": [
        "wg"
      ]
    }
  ]
}